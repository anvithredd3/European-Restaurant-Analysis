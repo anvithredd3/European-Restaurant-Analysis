{
  "cells": [
    {
      "cell_type": "markdown",
      "metadata": {
        "id": "51pfcnhBYHIt"
      },
      "source": [
        "#European Restaurant Analysis\n",
        "\n",
        "##Index\n",
        "\n",
        "\n",
        "*   Refrences\n",
        "*   Loading the dataset\n",
        "*   Cleaning And Pre-processing\n",
        "*   Exploratory Data Analysis\n",
        "*   Creating Master Dataframe\n",
        "*   Temporal and Spatial Analysis\n",
        "*   Building a Recommendation System\n",
        "\n",
        "#Dataset\n",
        "\n",
        "European  Restaurant Data obtained from (https://www.tripadvisor.com/ShowTopic-g1-i12105-k10292711-Datasets_from_tripadvisor-Tripadvisor_Support.html)"
      ]
    },
    {
      "cell_type": "markdown",
      "source": [
        "# 🔨 Tools Used:\n",
        "\n",
        "Numpy and pandas for data manipulation\n",
        "\n",
        "Seaborn and plotly for data visualization\n",
        "\n",
        "Folium and geo-pandas for spatial analysis\n",
        "\n",
        "KNN and cosine similarity for recommendation system"
      ],
      "metadata": {
        "id": "oO3xXOhcJAF8"
      }
    },
    {
      "cell_type": "markdown",
      "metadata": {
        "id": "orw1GUT6YHAw"
      },
      "source": [
        "#Refrences\n",
        "\n",
        "##Academic Refrences:\n",
        "\n",
        "1. Fukuhara, T., Tenmoku, R., Okuma, T., Ueoka, R., Takehara, M., Kurata, T. (2014).\n",
        "Improving Service Processes Based on Visualization of Human-Behavior and POS Data:\n",
        "A Case Study in a Japanese Restaurant. In: Mochimaru, M., Ueda, K., Takenaka, T. (eds)\n",
        "Serviceology for Services. ICServ 2013. Springer, Tokyo.\n",
        "https://doi.org/10.1007/978-4-431-54816-4_1\n",
        "https://link.springer.com/chapter/10.1007/978-4-431-54816-4_1#citeas\n",
        "2. Zacharopoulou, Dimitra, Andriani Skopeliti, and Byron Nakos. 2021. \"Assessment and\n",
        "Visualization of OSM Consistency for European Cities\" ISPRS International Journal of\n",
        "Geo-Information 10, no. 6: 361. https://doi.org/10.3390/ijgi10060361\n",
        "3. Assuncao, R. M., Neves, M. C., Camara, G., & Da Costa Freitas, C. (2006). Efficient\n",
        "regionalization techniques for socio-economic geographical units using minimum spanning trees.\n",
        "International Journal of Geographical Information Science, 20(7), 797–811.\n",
        "4. Austin, S. B., Melly, S. J., Sanchez, B. N., Patel, A., Buka, S., & Gortmaker, S. L. (2005).\n",
        "Clustering of fast-food restaurants around schools: A novel application of spatial statistics to the\n",
        "study of food environments. American Journal of Public Health, 95(9), 1575–1581.\n",
        "5. F.O. Isinkaye, Y.O. Folajimi, B.A. Ojokoh,Recommendation systems: Principles, methods and\n",
        "evaluation,Egyptian Informatics Journal,Volume 16, Issue 3,2015,Pages 261-273,ISSN\n",
        "1110-8665, https://doi.org/10.1016/j.eij.2015.06.005\n",
        "6. Ridhwan M M, Wicaksono G, Nurliana L, Bary P, Suryani F T and Satyanugroho R 2015 Analisis\n",
        "Daya Saing dan Strategi Industri Nasional di Era Masyarakat Ekonomi ASEAN dan\n",
        "Perdagangan Bebas (Jakarta, Indonesia: Bank Indonesia)\n",
        "7. T. Ahmed, L. Akhter, F. R. Talukder, Hasan-Al-Monsur, H. Rahman and A. Sattar, \"Restaurant\n",
        "Recommendation System in Dhaka City using Machine Learning Approach,\" 2021 10th\n",
        "International Conference on System Modeling & Advancement in Research Trends (SMART),\n",
        "MORADABAD, India, 2021, pp. 59-63, doi: 10.1109/SMART52563.2021.9676197.\n",
        "https://ieeexplore.ieee.org/document/9676197\n",
        "8. A. Gupta and K. Singh, \"Location based personalized restaurant recommendation system for\n",
        "mobile environments,\" 2013 International Conference on Advances in Computing,\n",
        "Communications and Informatics (ICACCI), Mysore, India, 2013, pp. 507-511, doi:\n",
        "10.1109/ICACCI.2013.6637223. https://ieeexplore.ieee.org/document/6637223\n",
        "9. T. Horozov, N. Narasimhan and V. Vasudevan, \"Using location for personalized POI\n",
        "recommendations in mobile environments,\" International Symposium on Applications and the\n",
        "Internet (SAINT'06), Phoenix, AZ, USA, 2006, pp. 6 pp.-129, doi: 10.1109/SAINT.2006.55.\n",
        "10. Rehman, F., Khalid, O., & Madani, S. (2017). A comparative study of location-based\n",
        "recommendation systems. The Knowledge Engineering Review, 32, E7.\n",
        "doi:10.1017/S0269888916000308\n",
        "11. M. B. Hossain and M. S. Arefin, \"Developing a Framework for Next Point-of-interest\n",
        "Recommendation from Spatiotemporal Data,\" 2022 International Conference on\n",
        "Advancement in Electrical and Electronic Engineering (ICAEEE), Gazipur, Bangladesh,\n",
        "2022, pp. 1-5, doi: 10.1109/ICAEEE54957.2022.9836471.\n",
        "12. Ekrem Saralioglu & Oguz Gungor. (2022) Crowdsourcing-based application to solve the\n",
        "problem of insufficient training data in deep learning-based classification of satellite\n",
        "images. Geocarto International 37:18, pages 5433-5452.\n",
        "13. T. Liang, S. Lu and Q. Liu, \"Data Visualization System Based on Big Data Analysis,\" 2020\n",
        "International Conference on Robots & Intelligent System (ICRIS), Sanya, China, 2020, pp. 76-79,\n",
        "doi: 10.1109/ICRIS52159.2020.00027\n",
        "14. Muskan, G. Singh, J. Singh and C. Prabha, \"Data Visualization and its Key Fundamentals: A\n",
        "Comprehensive Survey,\" 2022 7th International Conference on Communication and Electronics\n",
        "Systems (ICCES), Coimbatore, India, 2022, pp. 1710-1714, doi:\n",
        "10.1109/ICCES54183.2022.9835803.\n",
        "15. T. H. A. Soliman, S. A. El-Moemen Mohamed and A. A. Sewisy, \"Developing a mobile\n",
        "location-based collaborative Recommender System for GIS applications,\" 2015 Tenth\n",
        "International Conference on Computer Engineering & Systems (ICCES), Cairo, Egypt, 2015, pp.\n",
        "267-273, doi: 10.1109/ICCES.2015.7393058. https://ieeexplore.ieee.org/document/6637223\n",
        "16. Chu, WT., Tsai, YL. A hybrid recommendation system considering visual information for\n",
        "predicting favorite restaurants. World Wide Web 20, 1313–1331 (2017).\n",
        "https://doi.org/10.1007/s11280-017-0437-1\n",
        "17. J. Zeng, F. Li, H. Liu, J. Wen and S. Hirokawa, \"A Restaurant Recommender System Based on\n",
        "User Preference and Location in Mobile Environment,\" 2016 5th IIAI International Congress on\n",
        "Advanced Applied Informatics (IIAI-AAI), Kumamoto, Japan, 2016, pp. 55-60, doi:\n",
        "10.1109/IIAI-AAI.2016.126.\n",
        "18. M. Malathi, S. Sarujith and S. Menon, \"Rating-based Restaurant and Food Recommendation\n",
        "System using Nearest Neighbor Algorithm,\" 2022 Sixth International Conference on I-SMAC\n",
        "(IoT in Social, Mobile, Analytics and Cloud) (I-SMAC), Dharan, Nepal, 2022, pp. 876-879, doi:\n",
        "10.1109/I-SMAC55078.2022.9987306.\n",
        "https://ieeexplore.ieee.org/document/9987306/authors#authors\n",
        "19. Citation D L Widaningrum et al 2018 IOP Conf. Ser.: Earth Environ. Sci. 145 012102\n",
        "DOI 10.1088/1755-1315/145/1/012102\n",
        "\n",
        "##Non-Academic Refrences:\n",
        "\n",
        "1. https://www.kaggle.com/datasets/stefanoleone992/tripadvisor-european-restaurants/data\n",
        "2. https://www.kaggle.com/code/cindyhooo/tripadvisor-european-restaurant\n",
        "3. https://www.kaggle.com/code/shtrausslearning/geospatial-data-visualisation-australia\n"
      ]
    },
    {
      "cell_type": "markdown",
      "metadata": {
        "id": "XTYmODtO8I3E"
      },
      "source": [
        "#Installing libraries"
      ]
    },
    {
      "cell_type": "code",
      "execution_count": null,
      "metadata": {
        "id": "J3c6C8vY9qhe"
      },
      "outputs": [],
      "source": [
        "!pip install geopandas==0.10.2"
      ]
    },
    {
      "cell_type": "code",
      "execution_count": null,
      "metadata": {
        "id": "0JkANuaM9tYg"
      },
      "outputs": [],
      "source": [
        "!pip install mapclassify"
      ]
    },
    {
      "cell_type": "code",
      "execution_count": null,
      "metadata": {
        "id": "To8Bh-_a9xc4"
      },
      "outputs": [],
      "source": [
        "import pandas as pd\n",
        "import gdown\n",
        "pd.set_option('display.max_columns', None)\n",
        "pd.options.mode.chained_assignment = None  # default='warn'"
      ]
    },
    {
      "cell_type": "code",
      "execution_count": null,
      "metadata": {
        "id": "n-DbLQrQJ6so"
      },
      "outputs": [],
      "source": [
        "import warnings\n",
        "warnings.filterwarnings('ignore')"
      ]
    },
    {
      "cell_type": "code",
      "execution_count": null,
      "metadata": {
        "id": "74FPkyJm91Vg"
      },
      "outputs": [],
      "source": [
        "gdown.download('https://drive.google.com/uc?id=1GSehPVV2diF9Lub_Vlq3cV2Q2j-C6HnP')"
      ]
    },
    {
      "cell_type": "code",
      "execution_count": null,
      "metadata": {
        "id": "2-4WU8Su92Nx"
      },
      "outputs": [],
      "source": [
        "from google.colab import drive\n",
        "drive.mount('/content/drive')"
      ]
    },
    {
      "cell_type": "code",
      "execution_count": null,
      "metadata": {
        "id": "dC87PTl094ol"
      },
      "outputs": [],
      "source": [
        "df = pd.read_csv('tripadvisor_european_restaurants.csv', encoding='utf8', low_memory=False)"
      ]
    },
    {
      "cell_type": "code",
      "execution_count": null,
      "metadata": {
        "id": "BVNMVX1V9-Ov"
      },
      "outputs": [],
      "source": [
        "df.head()"
      ]
    },
    {
      "cell_type": "markdown",
      "metadata": {
        "id": "p3ehwgyNMmuS"
      },
      "source": [
        "#Data Cleaning and Pre-processing"
      ]
    },
    {
      "cell_type": "markdown",
      "source": [
        "Editing certain rows, adding few columns and deleting few"
      ],
      "metadata": {
        "id": "tCNZ4txmivmr"
      }
    },
    {
      "cell_type": "code",
      "execution_count": null,
      "metadata": {
        "id": "cEHlgqKjCLQY"
      },
      "outputs": [],
      "source": [
        "df= df.dropna(subset=['latitude','longitude','original_open_hours', 'cuisines','price_range','avg_rating','total_reviews_count'])"
      ]
    },
    {
      "cell_type": "code",
      "execution_count": null,
      "metadata": {
        "id": "hFIbP_X9AtJl"
      },
      "outputs": [],
      "source": [
        "df['original_open_hours']=df['original_open_hours'].fillna({\"Mon\": [\"07:00-14:30\", \"17:00-23:00\"], \"Tue\": [\"07:00-14:30\", \"17:00-23:00\"], \"Wed\": [\"07:00-14:30\", \"17:00-23:00\"], \"Thu\": [\"07:00-14:30\", \"17:00-23:00\"], \"Fri\": [\"07:00-14:30\", \"17:00-23:00\"], \"Sat\": [\"08:00-14:30\", \"17:00-23:00\"], \"Sun\": [\"08:00-14:30\"]})\n",
        "df['open_days_per_week']=df['open_days_per_week'].fillna(7)\n",
        "df['open_hours_per_week']=df['open_hours_per_week'].fillna(86.5)\n",
        "df['meals']=df['meals'].fillna('Breakfast, Lunch, Dinner')\n",
        "df['cuisines']=df['cuisines'].fillna('Multi')\n",
        "df['minimum_range'] = pd.to_numeric(df['price_range'].str.split('-').str[0].str.replace('€', '').str.replace(',', ''), errors='coerce')\n",
        "df['maximum_range'] = pd.to_numeric(df['price_range'].str.split('-').str[1].str.replace('€', '').str.replace(',', ''), errors='coerce')\n",
        "df['avg_price'] = (df['minimum_range'] + df['maximum_range']) / 2\n",
        "df.drop(['minimum_range', 'maximum_range','working_shifts_per_week'], axis=1, inplace=True)"
      ]
    },
    {
      "cell_type": "code",
      "execution_count": null,
      "metadata": {
        "id": "jkzHubb1-Bav"
      },
      "outputs": [],
      "source": [
        "columns_to_drop = ['original_open_hours', 'vegan_options', 'gluten_free', 'restaurant_link', 'original_location',  'province', 'address', 'claimed', 'popularity_detailed', 'popularity_generic', 'special_diets', 'features', 'original_open_hours', 'reviews_count_in_default_language', 'excellent', 'very_good', 'average', 'poor', 'terrible', 'food', 'service', 'value', 'atmosphere', 'keywords' ,'default_language']\n",
        "df = df.drop(columns=columns_to_drop)"
      ]
    },
    {
      "cell_type": "code",
      "execution_count": null,
      "metadata": {
        "id": "kxjpi9t6-M2o"
      },
      "outputs": [],
      "source": [
        "df= df[df['avg_price'] <= 1000].dropna(subset=['avg_price'])"
      ]
    },
    {
      "cell_type": "code",
      "execution_count": null,
      "metadata": {
        "id": "RL4GMWOa-RH8"
      },
      "outputs": [],
      "source": [
        "countries_dict = {'Austria': 'AUT', 'Belgium': 'BEL', 'Bulgaria': 'BGR', 'Croatia': 'HRV', 'Czech Republic': 'CZE',\n",
        "                  'Denmark': 'DNK', 'England': 'GBR', 'Finland': 'FIN', 'France': 'FRA', 'Germany': 'DEU',\n",
        "                  'Greece': 'GRC', 'Hungary': 'HUN', 'Ireland': 'IRL', 'Italy': 'ITA', 'Northern Ireland': 'GBR',\n",
        "                  'Poland': 'POL', 'Portugal': 'PRT', 'Romania': 'ROU', 'Scotland': 'GBR', 'Slovakia': 'SVK',\n",
        "                  'Spain': 'ESP', 'Sweden': 'SWE', 'The Netherlands': 'NLD', 'Wales': 'GBR'}\n",
        "df['country_code'] = df['country'].map(countries_dict).fillna(df['country'])"
      ]
    },
    {
      "cell_type": "code",
      "execution_count": null,
      "metadata": {
        "id": "-9Fvp14L-c2h"
      },
      "outputs": [],
      "source": [
        "df.replace({\"€\": 'low', \"€€-€€€\": 'mid', \"€€€€\": 'high'}, inplace = True)\n",
        "df[\"price_level\"].fillna(\"low\")"
      ]
    },
    {
      "cell_type": "code",
      "execution_count": null,
      "metadata": {
        "id": "LkV8I_7Q_msK"
      },
      "outputs": [],
      "source": [
        "df['lat_long'] = df[['latitude', 'longitude']].values.tolist()"
      ]
    },
    {
      "cell_type": "markdown",
      "source": [
        "# Exploratory Data Analysis\n"
      ],
      "metadata": {
        "id": "pi5omtyri6rf"
      }
    },
    {
      "cell_type": "code",
      "execution_count": null,
      "metadata": {
        "id": "OTftxHonLDS9"
      },
      "outputs": [],
      "source": [
        "import folium\n",
        "from folium import plugins\n",
        "import seaborn as sns\n",
        "import matplotlib.pyplot as plt\n",
        "import numpy as np\n",
        "import plotly.express as px\n",
        "import requests\n",
        "import json\n",
        "import folium"
      ]
    },
    {
      "cell_type": "markdown",
      "source": [
        "Heat-map to show the insights of the data-set"
      ],
      "metadata": {
        "id": "zPAW_MoAiHmN"
      }
    },
    {
      "cell_type": "code",
      "execution_count": null,
      "metadata": {
        "id": "WSgSkFtG_gu1"
      },
      "outputs": [],
      "source": [
        "m = folium.Map(location=(15,30), tiles=\"OpenStreetMap\", zoom_start = 3)\n",
        "plugins.HeatMap(df['lat_long'], radius=20).add_to(m)\n",
        "m"
      ]
    },
    {
      "cell_type": "markdown",
      "metadata": {
        "id": "DwQR06bt_gXG"
      },
      "source": [
        "##Counting number of restaurant in each country"
      ]
    },
    {
      "cell_type": "code",
      "execution_count": null,
      "metadata": {
        "id": "cEIKFvhd-0u-"
      },
      "outputs": [],
      "source": [
        "sns.set(style='whitegrid')\n",
        "\n",
        "countries_count = df['country'].value_counts()\n",
        "\n",
        "plt.figure(figsize=(15, 8))\n",
        "plt.title('Count of Restaurants by Country', size=20)\n",
        "ax = sns.barplot(x=countries_count.values, y=countries_count.index, palette='viridis')\n",
        "plt.xlabel('Number of Restaurants', size=15)\n",
        "plt.ylabel('Country', size=15)\n",
        "\n",
        "for i, v in enumerate(countries_count.values):\n",
        "    plt.text(x=v + 5, y=i + 0.2, s=str(v), color='k', fontsize=12)\n",
        "ax.xaxis.grid(True)\n",
        "\n",
        "plt.show()\n"
      ]
    },
    {
      "cell_type": "markdown",
      "source": [
        "Creating a dataset with important colums for visualizing important aspects related to the restaurent for major country in europe\n"
      ],
      "metadata": {
        "id": "kiWbIXU2jRLq"
      }
    },
    {
      "cell_type": "code",
      "execution_count": null,
      "metadata": {
        "id": "PNuDV6HXAU1s"
      },
      "outputs": [],
      "source": [
        "agg_countries_df = df.groupby('country').agg(\n",
        "    total_restaurants=pd.NamedAgg(column='restaurant_name', aggfunc='size'),\n",
        "    avg_rating=pd.NamedAgg(column='avg_rating', aggfunc=np.mean),\n",
        "    total_reviews=pd.NamedAgg(column='total_reviews_count', aggfunc=np.sum),\n",
        "    avg_price=pd.NamedAgg(column='avg_price', aggfunc=np.mean),\n",
        "    open_days_per_week=pd.NamedAgg(column='open_days_per_week', aggfunc=np.mean),\n",
        "    open_hours_per_week=pd.NamedAgg(column='open_hours_per_week', aggfunc=np.mean),\n",
        "    latitude=pd.NamedAgg(column='latitude', aggfunc=np.mean),\n",
        "    longitude=pd.NamedAgg(column='longitude', aggfunc=np.mean)\n",
        ").reset_index().sort_values(by='total_restaurants', ascending=False)\n",
        "\n",
        "# Round numeric columns\n",
        "numeric_columns = ['avg_rating', 'total_reviews', 'avg_price', 'open_days_per_week', 'open_hours_per_week', 'latitude', 'longitude']\n",
        "\n",
        "agg_countries_df[numeric_columns] = agg_countries_df[numeric_columns].round(3)\n",
        "\n",
        "#Format latitude and longitude for better readability\n",
        "agg_countries_df['latitude'] = agg_countries_df['latitude'].apply(lambda x: f'{x:.6f}')\n",
        "agg_countries_df['longitude'] = agg_countries_df['longitude'].apply(lambda x: f'{x:.6f}')\n"
      ]
    },
    {
      "cell_type": "code",
      "execution_count": null,
      "metadata": {
        "id": "DRIjX8p6yDqT"
      },
      "outputs": [],
      "source": [
        "agg_countries_df.head()"
      ]
    },
    {
      "cell_type": "code",
      "execution_count": null,
      "metadata": {
        "id": "LC6z6S_l_UQ1"
      },
      "outputs": [],
      "source": [
        "import plotly.express as px\n",
        "\n",
        "fig = px.treemap(agg_countries_df,\n",
        "                 path=[px.Constant('Europe'), 'country'],\n",
        "                 values='total_restaurants',\n",
        "                 color='avg_rating',\n",
        "                 hover_data=['total_restaurants', 'avg_rating'],\n",
        "                 width=800, height=500,\n",
        "                 labels={'total_restaurants': 'Total Restaurants'},\n",
        "                 title='Treemap of European countries colored by Average Rating',\n",
        "                 color_continuous_scale='Viridis')\n",
        "\n",
        "fig.update_layout(margin=dict(l=10, r=10, t=40, b=15))\n",
        "\n",
        "fig.show()\n"
      ]
    },
    {
      "cell_type": "code",
      "execution_count": null,
      "metadata": {
        "id": "xpj5ns1w__2M"
      },
      "outputs": [],
      "source": [
        "geojson_url = 'https://raw.githubusercontent.com/datasets/geo-countries/master/data/countries.geojson'\n",
        "geojson_data = requests.get(geojson_url).json()"
      ]
    },
    {
      "cell_type": "markdown",
      "source": [
        "Map Visualization"
      ],
      "metadata": {
        "id": "Pi4NHb2Qjkd7"
      }
    },
    {
      "cell_type": "code",
      "execution_count": null,
      "metadata": {
        "id": "cTXKqCNsCxY-"
      },
      "outputs": [],
      "source": [
        "m = folium.Map(location=[51.216505, 9.879729], zoom_start=4, tiles=\"cartodbpositron\")\n",
        "\n",
        "choropleth = folium.Choropleth(\n",
        "    geo_data=geojson_data,\n",
        "    name='choropleth',\n",
        "    data=agg_countries_df,\n",
        "    columns=['country', 'total_restaurants'],\n",
        "    key_on='feature.properties.ADMIN',\n",
        "    fill_color='viridis',\n",
        "    fill_opacity=0.7,\n",
        "    line_opacity=0.2,\n",
        "    legend_name='Total Restaurants',\n",
        ").add_to(m)\n",
        "\n",
        "folium.LayerControl().add_to(m)\n",
        "# Show the map\n",
        "m"
      ]
    },
    {
      "cell_type": "markdown",
      "source": [
        "##European map of countries based on Open Days per week"
      ],
      "metadata": {
        "id": "Mbc67L6tZJbg"
      }
    },
    {
      "cell_type": "code",
      "source": [
        "m = folium.Map(location=[51.216505, 9.879729], zoom_start=4, tiles=\"cartodbpositron\")\n",
        "\n",
        "choropleth = folium.Choropleth(\n",
        "    geo_data=geojson_data,\n",
        "    name='choropleth',\n",
        "    data=agg_countries_df,\n",
        "    columns=['country', 'open_days_per_week'],\n",
        "    key_on='feature.properties.ADMIN',\n",
        "    fill_color='viridis',\n",
        "    fill_opacity=0.7,\n",
        "    line_opacity=0.2,\n",
        "    legend_name='Restaurants based on Open Days per week ',\n",
        ").add_to(m)\n",
        "\n",
        "folium.LayerControl().add_to(m)\n",
        "# Show the map\n",
        "m"
      ],
      "metadata": {
        "id": "WDJgmvhkXwjy"
      },
      "execution_count": null,
      "outputs": []
    },
    {
      "cell_type": "markdown",
      "source": [
        "Here we can see that almost all the restaurants in Italy are open approximatly 6 days per week."
      ],
      "metadata": {
        "id": "M5f9psagacAz"
      }
    },
    {
      "cell_type": "markdown",
      "source": [
        "##Counting number of restaurant in top 20 countries from the whole europe"
      ],
      "metadata": {
        "id": "59eh3EKllbH6"
      }
    },
    {
      "cell_type": "code",
      "execution_count": null,
      "metadata": {
        "id": "dR0qo5jEC105"
      },
      "outputs": [],
      "source": [
        "import seaborn as sns\n",
        "import matplotlib.pyplot as plt\n",
        "\n",
        "# Count of restaurant cities\n",
        "sns.set(style='whitegrid')\n",
        "\n",
        "top20_cities = df['city'].value_counts().nlargest(20)\n",
        "\n",
        "plt.figure(figsize=(15, 8))\n",
        "plt.title('Top 20 Cities with the Most Restaurants', size=20)\n",
        "ax = sns.barplot(x=top20_cities.values, y=top20_cities.index, palette='magma')\n",
        "plt.xlabel('Number of Restaurants', size=15)\n",
        "plt.ylabel('City', size=15)\n",
        "\n",
        "for i, v in enumerate(top20_cities.values):\n",
        "    plt.text(x=v + 5, y=i + 0.2, s=str(v), color='k', fontsize=12)\n",
        "\n",
        "ax.xaxis.grid(True)\n",
        "\n",
        "plt.show()\n"
      ]
    },
    {
      "cell_type": "markdown",
      "source": [
        "Creating a dataset with important colums for visualizing important aspects related to the restaurent for top 20 cities in Europe"
      ],
      "metadata": {
        "id": "yTMkxCFgmRRB"
      }
    },
    {
      "cell_type": "code",
      "execution_count": null,
      "metadata": {
        "id": "M18IRJJBDM5g"
      },
      "outputs": [],
      "source": [
        "top20_cities = df['city'].value_counts().nlargest(20).index\n",
        "top20_cities_df = df[df['city'].isin(top20_cities)]\n",
        "\n",
        "agg_top20_cities_df = top20_cities_df.groupby(['country', 'city']).agg(\n",
        "    total_restaurants=pd.NamedAgg(column='restaurant_name', aggfunc='size'),\n",
        "    avg_rating=pd.NamedAgg(column='avg_rating', aggfunc=np.mean),\n",
        "    total_reviews=pd.NamedAgg(column='total_reviews_count', aggfunc=np.sum),\n",
        "    avg_price=pd.NamedAgg(column='avg_price', aggfunc=np.mean),\n",
        "    open_days_per_week=pd.NamedAgg(column='open_days_per_week', aggfunc=np.mean),\n",
        "    open_hours_per_week=pd.NamedAgg(column='open_hours_per_week', aggfunc=np.mean),\n",
        "    latitude=pd.NamedAgg(column='latitude', aggfunc=np.mean),\n",
        "    longitude=pd.NamedAgg(column='longitude', aggfunc=np.mean)\n",
        ").reset_index().sort_values(by='total_restaurants', ascending=False).head(20)\n",
        "\n",
        "numeric_columns = ['avg_rating', 'total_reviews', 'avg_price', 'open_days_per_week', 'open_hours_per_week', 'latitude', 'longitude']\n",
        "agg_top20_cities_df[numeric_columns] = agg_top20_cities_df[numeric_columns].round(3)\n"
      ]
    },
    {
      "cell_type": "code",
      "execution_count": null,
      "metadata": {
        "id": "OciG8WtfDjvU"
      },
      "outputs": [],
      "source": [
        "import plotly.express as px\n",
        "\n",
        "fig = px.treemap(agg_top20_cities_df,\n",
        "                 path=[px.Constant('Europe'), 'country', 'city'],\n",
        "                 values='total_restaurants',\n",
        "                 color='avg_rating',\n",
        "                 hover_data=['total_restaurants', 'avg_rating'],\n",
        "                 width=800, height=500,\n",
        "                 labels={'avg_rating': 'Average Rating'},\n",
        "                 title='Treemap of the 20 Most Popular European Cities Colored by Mean Rating',\n",
        "                 color_continuous_scale='magma')\n",
        "\n",
        "fig.update_layout(margin=dict(l=10, r=10, t=40, b=15))\n",
        "\n",
        "fig.show()\n"
      ]
    },
    {
      "cell_type": "markdown",
      "source": [
        "Map Visualization"
      ],
      "metadata": {
        "id": "brLntMVemtmj"
      }
    },
    {
      "cell_type": "code",
      "execution_count": null,
      "metadata": {
        "id": "-HqyomKMFGSS"
      },
      "outputs": [],
      "source": [
        "m = folium.Map(location=[51.216505, 9.879729], zoom_start=5, tiles=\"cartodbpositron\")\n",
        "\n",
        "\n",
        "for index, row in agg_top20_cities_df.iterrows():\n",
        "    folium.CircleMarker(\n",
        "        location=[row['latitude'], row['longitude']],\n",
        "        radius=row['total_restaurants'] / 1000,\n",
        "        color=px.colors.qualitative.Set1[0],\n",
        "        fill=True,\n",
        "        fill_color=px.colors.qualitative.Set1[0],\n",
        "        fill_opacity=0.7,\n",
        "        tooltip=f\"{row['city']}<br>Average Rating: {row['avg_rating']}<br>Total Restaurants: {row['total_restaurants']}\"\n",
        "    ).add_to(m)\n",
        "\n",
        "folium.LayerControl().add_to(m)\n",
        "\n",
        "m"
      ]
    },
    {
      "cell_type": "markdown",
      "source": [
        "From this we can see that Paris has highest number of restaurants from all the cities"
      ],
      "metadata": {
        "id": "rZM_oJBd55E3"
      }
    },
    {
      "cell_type": "markdown",
      "source": [
        "#Data Analysis"
      ],
      "metadata": {
        "id": "Q-0hMQA_oEtg"
      }
    },
    {
      "cell_type": "markdown",
      "metadata": {
        "id": "bPkQdXwXO41o"
      },
      "source": [
        "## Master Data Frame\n",
        "\n",
        "Here we are creating a dataset which has information of top three famous cuisines from major countries and further we are analysing the data-set according to the following aspects:\n",
        "\n",
        "\n",
        "\n",
        "*   Ratio of Local Restaurant\n",
        "*   Average Price\n",
        "*   Average Ratings\n",
        "*   Average Reviews\n",
        "\n",
        "\n",
        "\n"
      ]
    },
    {
      "cell_type": "markdown",
      "source": [
        "As our analysis is based on localization of restaurants in Europe, we have eliminated some cuisines that represent regions or which are not related to Europe at all."
      ],
      "metadata": {
        "id": "q13sZRrzm247"
      }
    },
    {
      "cell_type": "code",
      "execution_count": null,
      "metadata": {
        "id": "ZnccwDrJXFOI"
      },
      "outputs": [],
      "source": [
        "lis=[' Vegetarian Friendly',' Gluten Free Options',' Mediterranean',' International',' Vegan Options',' Contemporary',' Asian',' Indonesian',' Japanese',' Seafood',' Fast Food',' American',' Bar',' Healthy',\n",
        "' Indian',\n",
        "' Tibetan',\n",
        "' Nepali',\n",
        "' Italian',\n",
        "' Barbecue',\n",
        "' Steakhouse',\n",
        "' Latin',\n",
        "' Argentinean',\n",
        "' South American',\n",
        "' Grill',\n",
        "' Delicatessen',\n",
        "' Thai',\n",
        "' Soups',\n",
        "' Street Food',\n",
        "' Diner',\n",
        "' Lebanese',\n",
        "' Middle Eastern',\n",
        "' Israeli',\n",
        "' New Zealand',\n",
        "' Chinese',\n",
        "' Belgian',\n",
        "' Sushi',\n",
        "' Korean',\n",
        "' Turkish',\n",
        "' Vietnamese',\n",
        "' Halal',\n",
        "' Gastropub',\n",
        "' Fusion',\n",
        "' Arabic',\n",
        "' Balti',\n",
        "' Tunisian',\n",
        "' Persian',\n",
        "' Wine Bar',\n",
        "' Mexican',\n",
        "' Central American',\n",
        "' Australian',\n",
        "' Caribbean',\n",
        "' African',\n",
        "' Ethiopian',\n",
        "' Brew Pub',\n",
        "' Southwestern',\n",
        "' Singaporean',\n",
        "' Malaysian',\n",
        "' Minority Chinese',\n",
        "' Peruvian',\n",
        "' Taiwanese',\n",
        "' Hawaiian',\n",
        "' Jamaican',\n",
        "' Kosher',\n",
        "' Brazilian',\n",
        "' Pakistani',\n",
        "' Afghani',\n",
        "' Colombian',\n",
        "' Ecuadorean',\n",
        "' Cajun & Creole',\n",
        "' Georgian',\n",
        "' Egyptian',\n",
        "' Central Asian',\n",
        "' Cuban',\n",
        "' Russian',\n",
        "' Fujian',\n",
        "' Czech',\n",
        "' Armenian',\n",
        "' Venezuelan',\n",
        "' Bangladeshi',\n",
        "' Azerbaijani',\n",
        "' Polynesian',\n",
        "' Albanian',\n",
        "' Hungarian',\n",
        "' Filipino',\n",
        "' Yunnan',\n",
        "' Cambodian',\n",
        "' Chilean',\n",
        "' Mongolian',\n",
        "' Uzbek',\n",
        "' Xinjiang',\n",
        "' Ukrainian',\n",
        "' Sri Lankan',\n",
        "' Caucasian',\n",
        "' Latvian',\n",
        "' Salvadoran',\n",
        "' Guatemalan',\n",
        "' Native American',\n",
        "' Canadian',\n",
        "' Slovenian',\n",
        "' Burmese',\n",
        "' Puerto Rican']"
      ]
    },
    {
      "cell_type": "markdown",
      "source": [
        "Creating a list to keep only first cuisine from each country"
      ],
      "metadata": {
        "id": "JcJW0dmrpVi6"
      }
    },
    {
      "cell_type": "code",
      "execution_count": null,
      "metadata": {
        "id": "aAK71vs-mGv0"
      },
      "outputs": [],
      "source": [
        "for i in lis:\n",
        "    df['cuisines'] = df['cuisines'].str.replace(fr\"(^|,){i}(,|$)\", \"\", regex=True)\n",
        "\n",
        "df['cuisines'] = df['cuisines'].apply(lambda x: x.split(\",\")[0])\n"
      ]
    },
    {
      "cell_type": "code",
      "execution_count": null,
      "metadata": {
        "id": "wZyUcFNPJFUu"
      },
      "outputs": [],
      "source": [
        "recommendations_df = df"
      ]
    },
    {
      "cell_type": "code",
      "execution_count": null,
      "metadata": {
        "id": "Tgy0aLY3O99_"
      },
      "outputs": [],
      "source": [
        "# Here we created a dictionary to hold most common three cuisines for each country with their average ratings, average price range and average number of reviews.\n",
        "# Also 4th index variable contains average values for all the values except for the most common cuisine to use it for further analysis.\n",
        "\n",
        "countryDF = {}\n",
        "for i in df.country.unique():\n",
        "  countryDF[i] = []\n",
        "for i in countryDF:\n",
        "  cuis1 = df[df.country == i].groupby(['country', \"cuisines\"])[\"cuisines\"].count().sort_values(ascending=False).reset_index(name=\"Count\").iloc[0,1]\n",
        "  cuis2 = df[df.country == i].groupby(['country', \"cuisines\"])[\"cuisines\"].count().sort_values(ascending=False).reset_index(name=\"Count\").iloc[1,1]\n",
        "  cuis3 = df[df.country == i].groupby(['country', \"cuisines\"])[\"cuisines\"].count().sort_values(ascending=False).reset_index(name=\"Count\").iloc[2,1]\n",
        "  rating1 = df[(df.country == i) & (df.cuisines == cuis1)].groupby(\"cuisines\").mean().reset_index().iloc[0,5]\n",
        "  rating2 = df[(df.country == i) & (df.cuisines == cuis2)].groupby(\"cuisines\").mean().reset_index().iloc[0,5]\n",
        "  rating3 = df[(df.country == i) & (df.cuisines == cuis3)].groupby(\"cuisines\").mean().reset_index().iloc[0,5]\n",
        "  rating4 = df[(df.country == i) & (df.cuisines != cuis1) & (df.cuisines !=cuis2) & (df.cuisines !=cuis3)].mean()[4]\n",
        "  PriceRange1 = df[(df.country == i) & (df.cuisines == cuis1)].groupby(\"cuisines\").mean().reset_index().iloc[0,7]\n",
        "  PriceRange2 = df[(df.country == i) & (df.cuisines == cuis2)].groupby(\"cuisines\").mean().reset_index().iloc[0,7]\n",
        "  PriceRange3 = df[(df.country == i) & (df.cuisines == cuis3)].groupby(\"cuisines\").mean().reset_index().iloc[0,7]\n",
        "  PriceRange4 = df[(df.country == i) & (df.cuisines != cuis1) & (df.cuisines !=cuis2) & (df.cuisines !=cuis3)].mean()[6]\n",
        "  numOfRevs1 = df[(df.country == i) & (df.cuisines == cuis1)].groupby(\"cuisines\").mean().reset_index().iloc[0,6]\n",
        "  numOfRevs2 = df[(df.country == i) & (df.cuisines == cuis2)].groupby(\"cuisines\").mean().reset_index().iloc[0,6]\n",
        "  numOfRevs3 = df[(df.country == i) & (df.cuisines == cuis3)].groupby(\"cuisines\").mean().reset_index().iloc[0,6]\n",
        "  numOfRevs4 = df[(df.country == i) & (df.cuisines != cuis1) & (df.cuisines !=cuis2) & (df.cuisines !=cuis3)].mean()[5]\n",
        "  countryDF[i].append(cuis1)\n",
        "  countryDF[i].append(cuis2)\n",
        "  countryDF[i].append(cuis3)\n",
        "  countryDF[i].append(rating1)\n",
        "  countryDF[i].append(PriceRange1)\n",
        "  countryDF[i].append(numOfRevs1)\n",
        "  countryDF[i].append(rating2)\n",
        "  countryDF[i].append(PriceRange2)\n",
        "  countryDF[i].append(numOfRevs2)\n",
        "  countryDF[i].append(rating3)\n",
        "  countryDF[i].append(PriceRange3)\n",
        "  countryDF[i].append(numOfRevs3)\n",
        "  countryDF[i].append(rating4)\n",
        "  countryDF[i].append(PriceRange4)\n",
        "  countryDF[i].append(numOfRevs4)"
      ]
    },
    {
      "cell_type": "code",
      "execution_count": null,
      "metadata": {
        "id": "r3azZBO5aMGD"
      },
      "outputs": [],
      "source": [
        "#This dictionary is for holding the proportion of the most common three cuisiness\n",
        "\n",
        "proportioncountry = {}\n",
        "for i in df.country.unique():\n",
        "  proportioncountry[i] = []\n",
        "for i in proportioncountry:\n",
        "  dfdummy = df[df.country == i].groupby([\"country\",\"cuisines\"])[\"cuisines\"].count().to_frame(name = \"Count\").sort_values(by = \"Count\", ascending = False).reset_index()\n",
        "  prop1 = dfdummy.iloc[0,2] / dfdummy.Count.sum()\n",
        "  prop2 = dfdummy.iloc[1,2] / dfdummy.Count.sum()\n",
        "  prop3 = dfdummy.iloc[2,2] / dfdummy.Count.sum()\n",
        "  proportioncountry[i].append(float(format(prop1*100,\".0f\")))\n",
        "  proportioncountry[i].append(float(format(prop2*100,\".0f\")))\n",
        "  proportioncountry[i].append(float(format(prop3*100,\".0f\")))\n",
        "\n",
        "df_country = df.groupby(['country']).agg({\"cuisines\":pd.Series.mode, \"avg_price\":pd.Series.mean, \"avg_rating\":pd.Series.mean, \"total_reviews_count\": pd.Series.mean})\n",
        "\n",
        "dfco = pd.DataFrame.from_dict(countryDF, orient = \"index\").reset_index()\\\n",
        ".rename(columns={\"index\": \"country\", 0 : \"1stcuisines\", 1 : \"2ndcuisines\", 2 : \"3rdcuisines\",\n",
        "3 : \"1stRating\", 4 : \"1stPrice\", 5 : \"1stReviews\",\n",
        "6 : \"2ndRating\", 7 : \"2ndPrice\", 8 : \"2ndReviews\",\n",
        "9 : \"3rdRating\", 10 : \"3rdPrice\", 11 : \"3rdReviews\",\n",
        "12 : \"RestRating\", 13 : \"RestPrice\", 14 : \"RestReviews\"})\n",
        "\n",
        "dfpco = pd.DataFrame.from_dict(proportioncountry, orient = \"index\").reset_index()\\\n",
        ".rename(columns = {\"index\" : \"country\", 0 : \"1st%\", 1 : \"2nd%\", 2 : \"3rd%\"})\n",
        "\n",
        "data2 = dfco.set_index('country').join(dfpco.set_index('country'))\n",
        "\n",
        "#finally creating a master dataframe\n",
        "countryLocalization = data2.join(df_country.reset_index().set_index(\"country\"))\\\n",
        ".drop(columns = \"cuisines\").rename(columns = {\"avg_price\" : \"AveragePrice\", \"Rating\" : \"AverageRating\", \"total_reviews_count\" : \"AverageReviews\"})\\\n",
        ".reset_index()"
      ]
    },
    {
      "cell_type": "code",
      "execution_count": null,
      "metadata": {
        "id": "E9Pfjm0xjqX7"
      },
      "outputs": [],
      "source": [
        "df_country['total_reviews_count'] = df_country['total_reviews_count'].round(decimals=0)\n",
        "df_country"
      ]
    },
    {
      "cell_type": "code",
      "source": [
        "dfco['1stReviews'] = dfco['1stReviews'].round(decimals=0)\n",
        "dfco['2ndReviews'] = dfco['2ndReviews'].round(decimals=0)\n",
        "dfco['3rdReviews'] = dfco['3rdReviews'].round(decimals=0)\n",
        "dfco"
      ],
      "metadata": {
        "id": "OYvFvnxPKKGk"
      },
      "execution_count": null,
      "outputs": []
    },
    {
      "cell_type": "markdown",
      "source": [
        "This is what our master-dataframe looks like which holds the information of top 3 cuisines their average reviews, ratings, price\n",
        "\n",
        "For each country, the proportions of the top three cuisines are stored in the proportioncountry dictionary under keys 1st%, 2nd%, and 3rd%.\n",
        "\n",
        "These percentages represent the relative distribution of the top three cuisines which sum up to 100% for each country."
      ],
      "metadata": {
        "id": "fLYPMCRLqhjM"
      }
    },
    {
      "cell_type": "code",
      "execution_count": null,
      "metadata": {
        "id": "yXmPvtjVk3NQ"
      },
      "outputs": [],
      "source": [
        "countryLocalization"
      ]
    },
    {
      "cell_type": "markdown",
      "metadata": {
        "id": "Zs-67j9lIoef"
      },
      "source": [
        "# Temporal and Spatial-map Visualization"
      ]
    },
    {
      "cell_type": "markdown",
      "source": [
        "##From the master data frame obtained we are visualizing it further according to the following aspects:\n",
        "\n",
        "\n",
        "\n",
        "\n",
        "\n",
        "\n",
        "*   Ratio of Local Restaurant\n",
        "*   Average Price\n",
        "*   Average Ratings\n",
        "*   Average Reviews\n",
        "*   Relationships within Average Price and Average Rating\n",
        "*   Relationships within Average Price and Average Reviews\n",
        "\n",
        "\n",
        "\n",
        "\n",
        "\n",
        "\n",
        "\n"
      ],
      "metadata": {
        "id": "5aQcJEtbr95Z"
      }
    },
    {
      "cell_type": "code",
      "execution_count": null,
      "metadata": {
        "id": "6hnAqtdJME7j"
      },
      "outputs": [],
      "source": [
        "!pip install geopandas shapely"
      ]
    },
    {
      "cell_type": "code",
      "execution_count": null,
      "metadata": {
        "id": "1dP8yaZnDe1E"
      },
      "outputs": [],
      "source": [
        "import geopandas as gpd\n",
        "from shapely.geometry import Point\n",
        "import geopandas as gpd\n",
        "import pandas as pd\n",
        "import folium\n",
        "from folium import GeoJsonPopup"
      ]
    },
    {
      "cell_type": "markdown",
      "source": [
        "Converting .csv file to .geojson file to make the map visualization more interactive"
      ],
      "metadata": {
        "id": "rSxsRrl3rucZ"
      }
    },
    {
      "cell_type": "code",
      "execution_count": null,
      "metadata": {
        "id": "e0ijPg-nHt6m"
      },
      "outputs": [],
      "source": [
        "csv_file_path = '/content/drive/MyDrive/countryLocalization.csv'\n",
        "countryLocalization.to_csv(csv_file_path, index=False)\n",
        "\n",
        "drive.mount('/content/drive')"
      ]
    },
    {
      "cell_type": "code",
      "execution_count": null,
      "metadata": {
        "id": "Sk5q-vetJrvj"
      },
      "outputs": [],
      "source": [
        "world = gpd.read_file(gpd.datasets.get_path('naturalearth_lowres'))\n",
        "\n",
        "csv_file_path = '/content/drive/MyDrive/countryLocalization.csv'\n",
        "df = pd.read_csv(csv_file_path)\n",
        "\n",
        "merged_df = world.merge(df, left_on='name', right_on='country')\n",
        "\n",
        "geojson_file = 'countryLocalization.geojson'\n",
        "merged_df.to_file(geojson_file, driver='GeoJSON')\n",
        "\n",
        "print(f'Conversion completed. GeoJSON file saved at {geojson_file}')"
      ]
    },
    {
      "cell_type": "code",
      "execution_count": null,
      "metadata": {
        "id": "-lNJWzCtKGoE"
      },
      "outputs": [],
      "source": [
        "gdf = gpd.read_file(\"countryLocalization.geojson\")\n",
        "gdf.head()"
      ]
    },
    {
      "cell_type": "markdown",
      "source": [
        "Using the inbuilt explore function of geo-pandas which builts a basic map of the data with all the information mentioned in the dataset"
      ],
      "metadata": {
        "id": "9X3PlOX0yhqc"
      }
    },
    {
      "cell_type": "code",
      "execution_count": null,
      "metadata": {
        "id": "SaTlju1kKdh1"
      },
      "outputs": [],
      "source": [
        "gdf.explore()"
      ]
    },
    {
      "cell_type": "markdown",
      "source": [
        "1. Local Restaurants Ratio"
      ],
      "metadata": {
        "id": "tpojkNMYxQN6"
      }
    },
    {
      "cell_type": "code",
      "execution_count": null,
      "metadata": {
        "id": "Y8BQt0LlUonr"
      },
      "outputs": [],
      "source": [
        "plt.figure(figsize = (15,6))\n",
        "data = countryLocalization.loc[(countryLocalization.country != 'Finland')&(countryLocalization.country != 'Slovakia')&(countryLocalization.country != 'Luxembourg'), :].sort_values(by = \"1st%\", ascending = True)\n",
        "bar = sns.barplot(data = data, x = \"country\", y = \"1st%\", palette = \"PuOr\")\n",
        "plt.xticks(rotation = 90)\n",
        "for p in bar.patches:\n",
        "    bar.annotate(format(p.get_height(), '.1f'),\n",
        "                   (p.get_x() + p.get_width() / 2., p.get_height()),\n",
        "                   ha = 'center', va = 'center',\n",
        "                   xytext = (0, 9),\n",
        "                   textcoords = 'offset points')\n",
        "plt.ylabel(\"Localization %\")\n",
        "plt.xlabel(None)\n",
        "plt.show()"
      ]
    },
    {
      "cell_type": "markdown",
      "metadata": {
        "id": "r1syZkj-Ux16"
      },
      "source": [
        "Creating new dataset with only country and local restaurents for map plotting"
      ]
    },
    {
      "cell_type": "code",
      "execution_count": null,
      "metadata": {
        "id": "Rhy1HmnIUxL4"
      },
      "outputs": [],
      "source": [
        "df = pd.DataFrame(gdf)\n",
        "new_df = df[['country', '1st%']]"
      ]
    },
    {
      "cell_type": "markdown",
      "source": [
        "Using matplotlib to visualize the local restaurents"
      ],
      "metadata": {
        "id": "cO0q2T6ByJ1I"
      }
    },
    {
      "cell_type": "code",
      "execution_count": null,
      "metadata": {
        "id": "glw11fzhVjkE"
      },
      "outputs": [],
      "source": [
        "import geopandas as gpd\n",
        "import matplotlib.pyplot as plt\n",
        "\n",
        "fig, ax1 = plt.subplots(1, figsize=(10, 6))\n",
        "\n",
        "gdf.plot(column='1st%', cmap='BuPu_r', linewidth=0.8, ax=ax1, edgecolor='0.8', legend=True)\n",
        "\n",
        "ax1.axis('off')\n",
        "ax1.set_title('Local Restaurants in each Country(%)', size=10)\n",
        "\n",
        "sm = plt.cm.ScalarMappable(cmap='BuPu_r', norm=plt.Normalize(vmin=gdf['1st%'].min(), vmax=gdf['1st%'].max()))\n",
        "sm._A = []\n",
        "cbar = fig.colorbar(sm, ax=ax)\n",
        "\n",
        "plt.show()\n"
      ]
    },
    {
      "cell_type": "markdown",
      "source": [
        "Using folium to make it more interactive"
      ],
      "metadata": {
        "id": "imKCDmM8yZda"
      }
    },
    {
      "cell_type": "code",
      "execution_count": null,
      "metadata": {
        "id": "hEVUHrbMeWVE"
      },
      "outputs": [],
      "source": [
        "m = folium.Map(location=[51.216505, 9.879729],  tiles=\"OpenStreetMap\", zoom_start=4)\n",
        "\n",
        "cpleth = folium.Choropleth(gdf, data=gdf, key_on='feature.properties.country',\n",
        "                          columns=['country', '1st%'],\n",
        "                          fill_color=\"BuPu_r\",\n",
        "                          legend_name=\"Country, Local Restaurents\",\n",
        "                          name=\"Local Restaurents (%)\")\n",
        "tooltip = folium.features.GeoJsonTooltip(fields=['country', '1st%'],\n",
        "                                        aliases=[\"Country\", \"Local Restaurents\"],\n",
        "                                        labels=True,\n",
        "                                        stick=False)\n",
        "cpleth.geojson.add_child(tooltip)\n",
        "cpleth.add_to(m)\n",
        "folium.LayerControl().add_to(m)\n",
        "m"
      ]
    },
    {
      "cell_type": "markdown",
      "source": [
        "From this we can see that Italy has highest number of local restaurants i.e 59%"
      ],
      "metadata": {
        "id": "pT5Rhcq0y0rX"
      }
    },
    {
      "cell_type": "markdown",
      "source": [
        "2. Prices"
      ],
      "metadata": {
        "id": "CRvXaU9uzFK0"
      }
    },
    {
      "cell_type": "code",
      "execution_count": null,
      "metadata": {
        "id": "-kBwgeMdS5IE"
      },
      "outputs": [],
      "source": [
        "plt.figure(figsize = (15,6))\n",
        "data = countryLocalization.loc[(countryLocalization.country != 'Finland')&(countryLocalization.country != 'Slovakia')&(countryLocalization.country != 'Luxembourg'), :].sort_values(by = \"AveragePrice\", ascending = True)\n",
        "bar = sns.barplot(data = data, x = \"country\", y = \"AveragePrice\", palette = \"Blues\")\n",
        "plt.xticks(rotation = 35)\n",
        "for p in bar.patches:\n",
        "    bar.annotate(format(p.get_height(), '.1f'),\n",
        "                   (p.get_x() + p.get_width() / 2., p.get_height()),\n",
        "                   ha = 'center', va = 'center',\n",
        "                   xytext = (0, 9),\n",
        "                   textcoords = 'offset points')\n",
        "plt.axhline(y=data.AveragePrice.mean(), color='Black', linestyle='--')\n",
        "plt.ylim(1.4)\n",
        "plt.ylabel(\"Local Cuisine Price\")\n",
        "plt.xlabel(None)\n",
        "plt.show()\n"
      ]
    },
    {
      "cell_type": "markdown",
      "source": [
        "Create a new DataFrame with only 'country' and 'Average price' columns"
      ],
      "metadata": {
        "id": "947G4AvV23XT"
      }
    },
    {
      "cell_type": "code",
      "execution_count": null,
      "metadata": {
        "id": "eD49gs2oYRGq"
      },
      "outputs": [],
      "source": [
        "df = pd.DataFrame(gdf)\n",
        "new_df = df[['country', 'AveragePrice']]"
      ]
    },
    {
      "cell_type": "markdown",
      "source": [
        "Using matplotlib to visualize average price for each country"
      ],
      "metadata": {
        "id": "USuYMq_X291z"
      }
    },
    {
      "cell_type": "code",
      "execution_count": null,
      "metadata": {
        "id": "mW1W_g0KYUuL"
      },
      "outputs": [],
      "source": [
        "import geopandas as gpd\n",
        "import matplotlib.pyplot as plt\n",
        "\n",
        "fig, ax1 = plt.subplots(1, figsize=(10, 6))\n",
        "\n",
        "gdf.plot(column='AveragePrice', cmap='Blues', linewidth=0.8, ax=ax1, edgecolor='0.8', legend=True)\n",
        "\n",
        "ax1.axis('off')\n",
        "ax1.set_title('Average price in Euroes for each Country', size=10)\n",
        "\n",
        "sm = plt.cm.ScalarMappable(cmap='BuPu_r', norm=plt.Normalize(vmin=gdf['AveragePrice'].min(), vmax=gdf['AveragePrice'].max()))\n",
        "sm._A = []\n",
        "cbar = fig.colorbar(sm, ax=ax)\n",
        "\n",
        "plt.show()"
      ]
    },
    {
      "cell_type": "markdown",
      "source": [
        "Using folium to make it more interactive"
      ],
      "metadata": {
        "id": "hD8X4mFt3R3R"
      }
    },
    {
      "cell_type": "code",
      "execution_count": null,
      "metadata": {
        "id": "rG2QOxY0Vl_w"
      },
      "outputs": [],
      "source": [
        "# Initialize a map centered on Europe\n",
        "m = folium.Map(location=[51.216505, 9.879729],  tiles=\"OpenStreetMap\", zoom_start=4)\n",
        "\n",
        "cpleth = folium.Choropleth(gdf, data=gdf, key_on='feature.properties.country',\n",
        "                          columns=['country', 'AveragePrice'],\n",
        "                          fill_color=\"Blues\",\n",
        "                          legend_name=\"Country, Average Price\",\n",
        "                          name=\"Average Price \")\n",
        "tooltip = folium.features.GeoJsonTooltip(fields=['country', 'AveragePrice'],\n",
        "                                        aliases=[\"Country\", \"Average Price\"],\n",
        "                                        labels=True,\n",
        "                                        stick=False)\n",
        "cpleth.geojson.add_child(tooltip)\n",
        "cpleth.add_to(m)\n",
        "folium.LayerControl().add_to(m)\n",
        "m"
      ]
    },
    {
      "cell_type": "markdown",
      "source": [
        "From this we can see that the most costly country is Denmark with average price of 40.5 euros and the most cheapest country is Poland with average price of 10.5 euros\n",
        "\n"
      ],
      "metadata": {
        "id": "MRCdJ2_vTk2W"
      }
    },
    {
      "cell_type": "markdown",
      "source": [
        "3. Ratings"
      ],
      "metadata": {
        "id": "8fEoe4vK3QDN"
      }
    },
    {
      "cell_type": "code",
      "execution_count": null,
      "metadata": {
        "id": "eXOdo4sbZQuT"
      },
      "outputs": [],
      "source": [
        "plt.figure(figsize = (15,6))\n",
        "data = countryLocalization.loc[(countryLocalization.country != 'Finland')&(countryLocalization.country != 'Slovakia')&(countryLocalization.country != 'Luxembourg'), :].sort_values(by = \"avg_rating\", ascending = True)\n",
        "bar = sns.barplot(data = data, x = \"country\", y = \"avg_rating\", palette = \"YlOrRd\")\n",
        "plt.xticks(rotation = 35)\n",
        "for p in bar.patches:\n",
        "    bar.annotate(format(p.get_height(), '.1f'),\n",
        "                   (p.get_x() + p.get_width() / 2., p.get_height()),\n",
        "                   ha = 'center', va = 'center',\n",
        "                   xytext = (0, 9),\n",
        "                   textcoords = 'offset points')\n",
        "plt.axhline(y=data.avg_rating.mean(), color='Black', linestyle='--')\n",
        "plt.ylim(3.5,5)\n",
        "plt.ylabel(\"Local Rating\")\n",
        "plt.xlabel(None)\n",
        "plt.show()"
      ]
    },
    {
      "cell_type": "markdown",
      "source": [
        "Create a new DataFrame with only 'country' and 'Average rating' columns"
      ],
      "metadata": {
        "id": "cx6X5uKJ3b2G"
      }
    },
    {
      "cell_type": "code",
      "execution_count": null,
      "metadata": {
        "id": "vhdCdhJ3Y_TX"
      },
      "outputs": [],
      "source": [
        "df = pd.DataFrame(gdf)\n",
        "new_df = df[['country', 'avg_rating']]"
      ]
    },
    {
      "cell_type": "markdown",
      "source": [
        "Using matplotlib to visualize the rating of each country"
      ],
      "metadata": {
        "id": "Y0mPvupk3owp"
      }
    },
    {
      "cell_type": "code",
      "execution_count": null,
      "metadata": {
        "id": "AGRAX5YmZFth"
      },
      "outputs": [],
      "source": [
        "import geopandas as gpd\n",
        "import matplotlib.pyplot as plt\n",
        "\n",
        "\n",
        "\n",
        "fig, ax1 = plt.subplots(1, figsize=(10, 6))\n",
        "\n",
        "\n",
        "gdf.plot(column='avg_rating', cmap='YlOrRd', linewidth=0.8, ax=ax1, edgecolor='0.8', legend=True)\n",
        "\n",
        "ax1.axis('off')\n",
        "ax1.set_title('Average Rating out of 5 for each Country', size=10)\n",
        "\n",
        "sm = plt.cm.ScalarMappable(cmap='YlOrRd', norm=plt.Normalize(vmin=gdf['avg_rating'].min(), vmax=gdf['avg_rating'].max()))\n",
        "sm._A = []\n",
        "cbar = fig.colorbar(sm, ax=ax)\n",
        "\n",
        "plt.show()"
      ]
    },
    {
      "cell_type": "markdown",
      "source": [
        "Using folium to make it more interactive"
      ],
      "metadata": {
        "id": "VXfLP1_r31UP"
      }
    },
    {
      "cell_type": "code",
      "execution_count": null,
      "metadata": {
        "id": "z-dgUfpQXEN_"
      },
      "outputs": [],
      "source": [
        "# Initialize a map centered on Europe\n",
        "m = folium.Map(location=[51.216505, 9.879729],  tiles=\"OpenStreetMap\", zoom_start=4)\n",
        "\n",
        "cpleth = folium.Choropleth(gdf, data=gdf, key_on='feature.properties.country',\n",
        "                          columns=['country', 'avg_rating'],\n",
        "                          fill_color=\"YlOrRd\",\n",
        "                          legend_name=\"Country, Local Ratings\",\n",
        "                          name=\"Local Ratings\")\n",
        "tooltip = folium.features.GeoJsonTooltip(fields=['country', 'avg_rating'],\n",
        "                                        aliases=[\"Country\", \"Local Ratings\"],\n",
        "                                        labels=True,\n",
        "                                        stick=False)\n",
        "cpleth.geojson.add_child(tooltip)\n",
        "cpleth.add_to(m)\n",
        "folium.LayerControl().add_to(m)\n",
        "m"
      ]
    },
    {
      "cell_type": "markdown",
      "source": [
        "From this we can see that Greece restaurants have highest ratings"
      ],
      "metadata": {
        "id": "ShmoGf0L37oU"
      }
    },
    {
      "cell_type": "markdown",
      "source": [
        "4. Reviews"
      ],
      "metadata": {
        "id": "cUfftt2D4I41"
      }
    },
    {
      "cell_type": "code",
      "execution_count": null,
      "metadata": {
        "id": "_UZi8QBvXl4T"
      },
      "outputs": [],
      "source": [
        "plt.figure(figsize = (15,6))\n",
        "data = countryLocalization.loc[(countryLocalization.country != 'Finland')&(countryLocalization.country != 'Slovakia')&(countryLocalization.country != 'Luxembourg'), :].sort_values(by = \"AverageReviews\", ascending = True)\n",
        "bar = sns.barplot(data = data, x = \"country\", y = \"AverageReviews\", palette = \"Purples\")\n",
        "plt.xticks(rotation = 35)\n",
        "for p in bar.patches:\n",
        "    bar.annotate(format(p.get_height(), '.1f'),\n",
        "                   (p.get_x() + p.get_width() / 2., p.get_height()),\n",
        "                   ha = 'center', va = 'center',\n",
        "                   xytext = (0, 9),\n",
        "                   textcoords = 'offset points')\n",
        "plt.axhline(y=data.AverageReviews.mean(), color='Black', linestyle='--')\n",
        "plt.ylabel(\"Local # of Reviews\")\n",
        "plt.xlabel(None)\n",
        "plt.show()"
      ]
    },
    {
      "cell_type": "markdown",
      "source": [
        "\n",
        "Create a new DataFrame with only 'country' and 'Average review' columns"
      ],
      "metadata": {
        "id": "A8WrHM344ZwJ"
      }
    },
    {
      "cell_type": "code",
      "execution_count": null,
      "metadata": {
        "id": "WaXktN5CZoPQ"
      },
      "outputs": [],
      "source": [
        "df = pd.DataFrame(gdf)\n",
        "new_df = df[['country', 'AverageReviews']]"
      ]
    },
    {
      "cell_type": "markdown",
      "source": [
        "Using matplotlib to visualize average reviews for each country"
      ],
      "metadata": {
        "id": "zZsVsmTT4sqO"
      }
    },
    {
      "cell_type": "code",
      "execution_count": null,
      "metadata": {
        "id": "GBzpmciDZw-v"
      },
      "outputs": [],
      "source": [
        "import geopandas as gpd\n",
        "import matplotlib.pyplot as plt\n",
        "\n",
        "fig, ax1 = plt.subplots(1, figsize=(10, 7))\n",
        "\n",
        "gdf.plot(column='AverageReviews', cmap='Purples', linewidth=0.8, ax=ax1, edgecolor='0.8', legend=True)\n",
        "\n",
        "ax1.axis('off')\n",
        "ax1.set_title('Average Rating out of 5 for each Country', size=10)\n",
        "\n",
        "sm = plt.cm.ScalarMappable(cmap='Purples', norm=plt.Normalize(vmin=gdf['AverageReviews'].min(), vmax=gdf['AverageReviews'].max()))\n",
        "sm._A = []\n",
        "cbar = fig.colorbar(sm, ax=ax)\n",
        "\n",
        "plt.show()"
      ]
    },
    {
      "cell_type": "markdown",
      "source": [
        "Using folium to make it more interactive"
      ],
      "metadata": {
        "id": "foGOeKKk41P1"
      }
    },
    {
      "cell_type": "code",
      "execution_count": null,
      "metadata": {
        "id": "fhNj117JifNN"
      },
      "outputs": [],
      "source": [
        "# Initialize a map centered on Europe\n",
        "m = folium.Map(location=[51.216505, 9.879729],  tiles=\"OpenStreetMap\", zoom_start=4)\n",
        "\n",
        "cpleth = folium.Choropleth(gdf, data=gdf, key_on='feature.properties.country',\n",
        "                          columns=['country', 'AverageReviews'],\n",
        "                          fill_color=\"Purples\",\n",
        "                          legend_name=\"Country, Local Reviews\",\n",
        "                          name=\"Local Reviews\")\n",
        "tooltip = folium.features.GeoJsonTooltip(fields=['country', 'AverageReviews'],\n",
        "                                        aliases=[\"Country\", \"Local Reviews\"],\n",
        "                                        labels=True,\n",
        "                                        stick=False)\n",
        "cpleth.geojson.add_child(tooltip)\n",
        "cpleth.add_to(m)\n",
        "folium.LayerControl().add_to(m)\n",
        "m"
      ]
    },
    {
      "cell_type": "markdown",
      "source": [
        "After looking up for average number of reviews done on local restaurants we can see that Italy is leading by far."
      ],
      "metadata": {
        "id": "lZYYuZmL445c"
      }
    },
    {
      "cell_type": "markdown",
      "source": [
        "5. Relationships within Average Price and Average Rating"
      ],
      "metadata": {
        "id": "RlHxTjrF5LAs"
      }
    },
    {
      "cell_type": "code",
      "source": [
        "sns.scatterplot(data=countryLocalization, x=\"AveragePrice\", y=\"avg_rating\", hue=\"country\", palette=\"viridis\", alpha=0.7)\n",
        "\n",
        "sns.regplot(data=countryLocalization, x=\"AveragePrice\", y=\"avg_rating\", scatter=False, color='black')\n",
        "\n",
        "plt.title('Relationships within Average Price and Average Rating')\n",
        "plt.xlabel('Average Price')\n",
        "plt.ylabel('Average Rating')\n",
        "\n",
        "plt.show()"
      ],
      "metadata": {
        "id": "oZr440145Zmj"
      },
      "execution_count": null,
      "outputs": []
    },
    {
      "cell_type": "markdown",
      "source": [
        "Here we got an intresting insight that as the average rating decreases the average price increases for a restaurant"
      ],
      "metadata": {
        "id": "tlacI1QtUdlA"
      }
    },
    {
      "cell_type": "markdown",
      "source": [
        "6. Relationships within Average Price and Average Reviews"
      ],
      "metadata": {
        "id": "vd9xKG855nzT"
      }
    },
    {
      "cell_type": "code",
      "source": [
        "sns.scatterplot(data=countryLocalization, x=\"AveragePrice\", y=\"AverageReviews\", hue=\"country\", palette=\"viridis\", alpha=0.7)\n",
        "\n",
        "sns.regplot(data=countryLocalization, x=\"AveragePrice\", y=\"AverageReviews\", scatter=False, color='black')\n",
        "\n",
        "plt.title('Relationships within Average Price and Average Reviews')\n",
        "plt.xlabel('Average Price')\n",
        "plt.ylabel('Average Reviews')\n",
        "\n",
        "plt.show()"
      ],
      "metadata": {
        "id": "Sw1tYmdz5u5R"
      },
      "execution_count": null,
      "outputs": []
    },
    {
      "cell_type": "markdown",
      "metadata": {
        "id": "T5VgiP_p5pUJ"
      },
      "source": [
        "##Recommendation Syatem"
      ]
    },
    {
      "cell_type": "code",
      "execution_count": null,
      "metadata": {
        "id": "6aQAtllti4Ta"
      },
      "outputs": [],
      "source": [
        "import pandas as pd\n",
        "from sklearn.neighbors import NearestNeighbors\n",
        "from sklearn.preprocessing import LabelEncoder"
      ]
    },
    {
      "cell_type": "code",
      "execution_count": null,
      "metadata": {
        "id": "-sDmnW4g6KlY"
      },
      "outputs": [],
      "source": [
        "restaurants_df = pd.DataFrame(recommendations_df)\n",
        "restaurants_df.head()"
      ]
    },
    {
      "cell_type": "code",
      "execution_count": null,
      "metadata": {
        "id": "auo2UrP6JYnF"
      },
      "outputs": [],
      "source": [
        "restaurants_df1 = restaurants_df\n",
        "restaurants_df2 = restaurants_df"
      ]
    },
    {
      "cell_type": "code",
      "execution_count": null,
      "metadata": {
        "id": "mY2GDOU7Jd4R"
      },
      "outputs": [],
      "source": [
        "restaurants_df1 = restaurants_df1.dropna(subset=['avg_rating', 'region'])"
      ]
    },
    {
      "cell_type": "code",
      "execution_count": null,
      "metadata": {
        "id": "_rsmVd3TJhjr"
      },
      "outputs": [],
      "source": [
        "restaurants_df1.info()"
      ]
    },
    {
      "cell_type": "code",
      "execution_count": null,
      "metadata": {
        "id": "-CUwb-LHJnGN"
      },
      "outputs": [],
      "source": [
        "#Label Encoding\n",
        "label_encoder_country = LabelEncoder()\n",
        "label_encoder_cuisine = LabelEncoder()\n",
        "label_encoder_region = LabelEncoder()\n",
        "label_encoder_price_level = LabelEncoder()\n",
        "label_encoder_vegetarian_friendly = LabelEncoder()"
      ]
    },
    {
      "cell_type": "code",
      "execution_count": null,
      "metadata": {
        "id": "1CyWkopxJp2p"
      },
      "outputs": [],
      "source": [
        "#Features\n",
        "restaurants_df1['country'] = label_encoder_country.fit_transform(restaurants_df1['country'])\n",
        "restaurants_df1['cuisines'] = label_encoder_cuisine.fit_transform(restaurants_df1['cuisines'])\n",
        "restaurants_df1['region'] = label_encoder_region.fit_transform(restaurants_df1['region'])\n",
        "restaurants_df1['price_level'] = label_encoder_price_level.fit_transform(restaurants_df1['price_level'])\n",
        "restaurants_df1['vegetarian_friendly'] = label_encoder_vegetarian_friendly.fit_transform(restaurants_df1['vegetarian_friendly'])\n",
        "\n",
        "\n",
        "features = ['country', 'cuisines', 'region', 'price_level', 'vegetarian_friendly', 'open_days_per_week', 'avg_rating']"
      ]
    },
    {
      "cell_type": "code",
      "execution_count": null,
      "metadata": {
        "id": "wLMDu_1rJrAd"
      },
      "outputs": [],
      "source": [
        "knn_model = NearestNeighbors(n_neighbors=3, metric='cosine')\n",
        "knn_model.fit(restaurants_df1[features])"
      ]
    },
    {
      "cell_type": "code",
      "execution_count": null,
      "metadata": {
        "id": "4D7YnSFrJwJi"
      },
      "outputs": [],
      "source": [
        "def get_recommendations(query_point, model, df, features, n_recommendations=3):\n",
        "    distances, indices = model.kneighbors([query_point], n_neighbors=n_recommendations+2)\n",
        "    recommendations = df.iloc[indices.flatten()][features]\n",
        "\n",
        "   #inverse_transformed_cuisines = label_encoder.inverse_transform(recommendations['cuisines'])\n",
        "\n",
        "    recommendations = df.iloc[indices.flatten()]\n",
        "\n",
        "    recommendations['country'] = label_encoder_country.inverse_transform(recommendations['country'])\n",
        "    recommendations['cuisines'] = label_encoder_cuisine.inverse_transform(recommendations['cuisines'])\n",
        "    recommendations['region'] = label_encoder_region.inverse_transform(recommendations['region'])\n",
        "    recommendations['price_level'] = label_encoder_price_level.inverse_transform(recommendations['price_level'])\n",
        "    recommendations['vegetarian_friendly'] = label_encoder_vegetarian_friendly.inverse_transform(recommendations['vegetarian_friendly'])\n",
        "\n",
        "\n",
        "\n",
        "\n",
        "    return recommendations"
      ]
    },
    {
      "cell_type": "code",
      "execution_count": null,
      "metadata": {
        "id": "vixkMQTCJzL8"
      },
      "outputs": [],
      "source": [
        "countries_options = restaurants_df2['country'].unique().tolist()\n",
        "\n",
        "country_number = []\n",
        "for i in range(1,len(countries_options)+1):\n",
        "  country_number.append(i)\n",
        "\n",
        "country_map = {}\n",
        "country_map = dict(zip(country_number, countries_options))\n",
        "\n",
        "country_map"
      ]
    },
    {
      "cell_type": "markdown",
      "source": [
        "### Entering User Inputs"
      ],
      "metadata": {
        "id": "fVI8FLaS58c0"
      }
    },
    {
      "cell_type": "code",
      "execution_count": null,
      "metadata": {
        "id": "nWOVLzZvJ2F6"
      },
      "outputs": [],
      "source": [
        "## Write an input from the user for selected_country\n",
        "selected_country = country_map[3]\n",
        "print(\"Selected Country :\", selected_country)"
      ]
    },
    {
      "cell_type": "code",
      "execution_count": null,
      "metadata": {
        "id": "BjFEDZGsJ5Ki"
      },
      "outputs": [],
      "source": [
        "region_filter = restaurants_df2[restaurants_df2['country'] == selected_country]\n",
        "unique_regions = region_filter['region'].unique().tolist()\n",
        "\n",
        "region_number=[]\n",
        "for i in range(1,len(unique_regions)+1):\n",
        "  region_number.append(i)\n",
        "\n",
        "region_map = {}\n",
        "region_map = dict(zip(region_number, unique_regions))\n",
        "\n",
        "region_map"
      ]
    },
    {
      "cell_type": "code",
      "execution_count": null,
      "metadata": {
        "id": "BCm5X6yIJ7_4"
      },
      "outputs": [],
      "source": [
        "selected_region = region_map[2]\n",
        "print(\"Selected Region: \", selected_region)"
      ]
    },
    {
      "cell_type": "code",
      "execution_count": null,
      "metadata": {
        "id": "tEmCT7TYJ-8n"
      },
      "outputs": [],
      "source": [
        "## Write an input for selected region\n",
        "\n",
        "cuisine_filter = restaurants_df2[restaurants_df2['region'] == selected_region]\n",
        "unique_cuisines = cuisine_filter['cuisines'].unique().tolist()\n",
        "\n",
        "cuisine_number = []\n",
        "for i in range(1, len(unique_cuisines)+1):\n",
        "  cuisine_number.append(i)\n",
        "\n",
        "cuisine_map= {}\n",
        "cuisine_map = dict(zip(cuisine_number, unique_cuisines))\n",
        "print(cuisine_map)\n",
        "\n",
        "selected_cuisine = cuisine_map[3]\n",
        "print(\"Selected Cuisine: \", selected_cuisine)"
      ]
    },
    {
      "cell_type": "code",
      "execution_count": null,
      "metadata": {
        "id": "cSzAx3H9KDrN"
      },
      "outputs": [],
      "source": [
        "price_level_unique = restaurants_df2['price_level'].unique().tolist()\n",
        "price_level_numbers = [1,2,3]\n",
        "price_level_map = dict(zip(price_level_numbers, price_level_unique))\n",
        "\n",
        "price_level_map\n",
        "\n",
        "print(\"Price Level:\")\n",
        "print(price_level_map)\n",
        "\n",
        "selected_price_level = price_level_map[1]\n",
        "\n",
        "print(\"Selected Price Level Option : \", selected_price_level)"
      ]
    },
    {
      "cell_type": "code",
      "execution_count": null,
      "metadata": {
        "id": "4Ui4vbG9KEuQ"
      },
      "outputs": [],
      "source": [
        "vegetarian_friendly_unique = restaurants_df2['vegetarian_friendly'].unique().tolist()\n",
        "vegetarian_friendly_numbers = [1,2]\n",
        "vegetarian_friendly_map = dict(zip(vegetarian_friendly_numbers, vegetarian_friendly_unique))\n",
        "\n",
        "\n",
        "print(\"Vegetarian Friendly (Yes/No)\")\n",
        "print(vegetarian_friendly_map)\n",
        "\n",
        "selected_vegetarian_friendly = vegetarian_friendly_map[1]\n",
        "\n",
        "print(\"Selected Vegetarian Friendly Option : \", selected_vegetarian_friendly)"
      ]
    },
    {
      "cell_type": "code",
      "execution_count": null,
      "metadata": {
        "id": "iWaER3dXKHZw"
      },
      "outputs": [],
      "source": [
        "user_query_country = label_encoder_country.transform([selected_country])[0]\n",
        "user_query_cuisine = label_encoder_cuisine.transform([selected_cuisine])[0]\n",
        "user_query_region = label_encoder_region.transform([selected_region])[0]\n",
        "user_query_price_level = label_encoder_price_level.transform([selected_price_level])[0]\n",
        "user_query_vegetarian_friendly = label_encoder_vegetarian_friendly.transform([selected_vegetarian_friendly])[0]\n",
        "user_query_open_days_per_week = 7.0\n",
        "user_query_avg_rating = 4.0\n",
        "\n",
        "user_query = [user_query_country, user_query_cuisine, user_query_region, user_query_price_level, user_query_vegetarian_friendly, user_query_open_days_per_week, user_query_avg_rating]"
      ]
    },
    {
      "cell_type": "code",
      "source": [
        "print('The Requirements of the User: ')\n",
        "print(\"Selected Country :\", selected_country)\n",
        "print(\"Selected Region: \", selected_region)\n",
        "print(\"Selected Cuisine: \", selected_cuisine)\n",
        "print(\"Selected Price Level Option : \", selected_price_level)\n",
        "print(\"Vegetarian Friendly (Yes/No)\")\n",
        "print('Open Days per Week: ', user_query_open_days_per_week)\n",
        "print('Average Rating :', user_query_avg_rating )"
      ],
      "metadata": {
        "id": "emEuz_mO5Edt"
      },
      "execution_count": null,
      "outputs": []
    },
    {
      "cell_type": "code",
      "execution_count": null,
      "metadata": {
        "id": "B5ceW0bMKL31"
      },
      "outputs": [],
      "source": [
        "recommendations = get_recommendations(user_query, knn_model, restaurants_df1, features)\n",
        "print(\"Top Restaurant Recommendations:\")\n",
        "#print(recommendations)\n",
        "recommendations"
      ]
    }
  ],
  "metadata": {
    "colab": {
      "provenance": []
    },
    "kernelspec": {
      "display_name": "Python 3",
      "name": "python3"
    },
    "language_info": {
      "name": "python"
    }
  },
  "nbformat": 4,
  "nbformat_minor": 0
}